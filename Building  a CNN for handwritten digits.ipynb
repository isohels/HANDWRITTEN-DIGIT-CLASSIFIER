{
 "cells": [
  {
   "cell_type": "markdown",
   "metadata": {},
   "source": [
    "\n",
    "\n",
    "# Creating a model based on MNIST Dataset of Handwritten Digits\n",
    "- Lets Load our Dataset"
   ]
  },
  {
   "cell_type": "code",
   "execution_count": 2,
   "metadata": {},
   "outputs": [
    {
     "name": "stderr",
     "output_type": "stream",
     "text": [
      "Using TensorFlow backend.\n"
     ]
    },
    {
     "name": "stdout",
     "output_type": "stream",
     "text": [
      "(60000,)\n"
     ]
    }
   ],
   "source": [
    "from keras.datasets import mnist\n",
    "\n",
    "#load MNIST Dataset\n",
    "\n",
    "(x_train, y_train), (x_test,y_test) = mnist.load_data()\n",
    "\n",
    "print(y_train.shape)"
   ]
  },
  {
   "cell_type": "markdown",
   "metadata": {},
   "source": [
    "# Step 2A: Examine the size and image dimensions\n",
    "- Check the number of samples, dimensions and whether images are color or gray\n",
    "- We see that our training data consist of 60000 samples of training data, and 10000 samples of test data\n",
    "- Our labels are properly sized as well\n",
    "- Our Image dimension are 28*28*1 with no color channels."
   ]
  },
  {
   "cell_type": "code",
   "execution_count": 3,
   "metadata": {},
   "outputs": [
    {
     "name": "stdout",
     "output_type": "stream",
     "text": [
      "Initial Shape of x_train (60000, 28, 28)\n",
      "Number of samples in our training dataset:60000\n",
      "Number of labels in our training dataset:60000\n",
      "Number of samples in our test dataset:10000\n",
      "Number of labels in our test dataset:10000\n",
      "\n",
      "Dimension of x_train:(28, 28)\n",
      "Labels in x_train:(60000,)\n",
      "\n",
      "Dimension of x_test:(28, 28)\n",
      "Labels in x_test:(10000,)\n"
     ]
    }
   ],
   "source": [
    "# printing number of training samples and test samples\n",
    "\n",
    "print(\"Initial Shape of x_train\", str(x_train.shape))\n",
    "\n",
    "print(\"Number of samples in our training dataset:\" + str(len(x_train)))\n",
    "print(\"Number of labels in our training dataset:\" + str(len(y_train)))\n",
    "print(\"Number of samples in our test dataset:\" + str(len(x_test)))\n",
    "print(\"Number of labels in our test dataset:\" + str(len(y_test)))\n",
    "\n",
    "print()\n",
    "\n",
    "print(\"Dimension of x_train:\" + str(x_train[0].shape))\n",
    "print(\"Labels in x_train:\" + str(y_train.shape))\n",
    "\n",
    "print()\n",
    "\n",
    "print(\"Dimension of x_test:\" + str(x_test[0].shape))\n",
    "print(\"Labels in x_test:\" + str(y_test.shape))"
   ]
  },
  {
   "cell_type": "markdown",
   "metadata": {},
   "source": [
    "## Step 2B - Let's take a look at some of images in the dataset\n",
    "\n",
    "- Using OpenCV\n",
    "- Using Matplotlib"
   ]
  },
  {
   "cell_type": "code",
   "execution_count": 4,
   "metadata": {},
   "outputs": [],
   "source": [
    "#using OpenCV\n",
    "#import OpenCV and numpy\n",
    "import cv2\n",
    "import numpy as np\n",
    "\n",
    "#Using OpenCV to display 6 random images from our dataset\n",
    "\n",
    "for i in range(0,6):\n",
    "    random_num = np.random.randint(0, len(x_train))\n",
    "    img =  x_train[random_num]\n",
    "    window_name = 'Random Sample #' + str(i)\n",
    "    cv2.imshow(window_name, img)\n",
    "    cv2.waitKey(0)\n",
    "    \n",
    "cv2.destroyAllWindows() "
   ]
  },
  {
   "cell_type": "markdown",
   "metadata": {},
   "source": [
    "### Lets do the same thing using matplotlib to plot 6 images"
   ]
  },
  {
   "cell_type": "code",
   "execution_count": 4,
   "metadata": {},
   "outputs": [
    {
     "data": {
      "image/png": "[encoded data removed]",
      "text/plain": [
       "<Figure size 432x288 with 6 Axes>"
      ]
     },
     "metadata": {
      "needs_background": "light"
     },
     "output_type": "display_data"
    }
   ],
   "source": [
    "#import matplotlib\n",
    "import matplotlib.pyplot as plt\n",
    "\n",
    "#plt 6 images, subplots arguments are nrows, ncols, index\n",
    "#we set the color map to grey since our dataset is grayscale\n",
    "\n",
    "plt.subplot(331)\n",
    "random_num = np.random.randint(0, len(x_train))\n",
    "plt.imshow(x_train[random_num], cmap=plt.get_cmap('gray'))\n",
    "\n",
    "plt.subplot(332)\n",
    "random_num = np.random.randint(0, len(x_train))\n",
    "plt.imshow(x_train[random_num], cmap=plt.get_cmap('gray'))\n",
    "\n",
    "plt.subplot(333)\n",
    "random_num = np.random.randint(0, len(x_train))\n",
    "plt.imshow(x_train[random_num], cmap=plt.get_cmap('gray'))\n",
    "\n",
    "plt.subplot(334)\n",
    "random_num = np.random.randint(0, len(x_train))\n",
    "plt.imshow(x_train[random_num], cmap=plt.get_cmap('gray'))\n",
    "\n",
    "plt.subplot(335)\n",
    "random_num = np.random.randint(0, len(x_train))\n",
    "plt.imshow(x_train[random_num], cmap=plt.get_cmap('gray'))\n",
    "\n",
    "plt.subplot(336)\n",
    "random_num = np.random.randint(0, len(x_train))\n",
    "plt.imshow(x_train[random_num], cmap=plt.get_cmap('gray'))\n",
    "\n",
    "#Display out plots\n",
    "plt.show()"
   ]
  },
  {
   "cell_type": "markdown",
   "metadata": {},
   "source": [
    "## Step 3A - Prepare our dataset for training"
   ]
  },
  {
   "cell_type": "code",
   "execution_count": 5,
   "metadata": {},
   "outputs": [
    {
     "name": "stdout",
     "output_type": "stream",
     "text": [
      "x_train shape: (60000, 28, 28, 1)\n",
      "60000 train samples\n",
      "10000 test samples\n"
     ]
    }
   ],
   "source": [
    "#lets Store the number of rows and columns\n",
    "img_rows = x_train[0].shape[0]\n",
    "img_cols = x_train[1].shape[0]\n",
    "\n",
    "#Creating our data in right 'shape' needed for keras\n",
    "#We need to add a 4th dimension to our data which is depth\n",
    "#our original image shape is (60000,28,28) we will add depth to it (60000,28,28,1)\n",
    "x_train = x_train.reshape(x_train.shape[0], img_rows, img_cols,1)\n",
    "x_test = x_test.reshape(x_test.shape[0], img_rows, img_cols,1)\n",
    "\n",
    "#store the shape of a single image\n",
    "#here the input shape is in integer\n",
    "#we created image shape for our first layer of convolution (1 because of grayscale)\n",
    "input_shape = (img_rows, img_cols, 1)\n",
    "\n",
    "#Change our image type to float32 data type\n",
    "x_train = x_train.astype('float32')\n",
    "x_test = x_test.astype('float32')\n",
    "\n",
    "#Normalize our data from a range of (0-255) to (0-1)\n",
    "x_train /= 255\n",
    "x_test /=255\n",
    "\n",
    "#Printing our modified data in accordance with keras\n",
    "print('x_train shape:', x_train.shape)\n",
    "print(x_train.shape[0], 'train samples')\n",
    "print(x_test.shape[0], 'test samples')"
   ]
  },
  {
   "cell_type": "markdown",
   "metadata": {},
   "source": [
    "## Step 3B - Hot Encode our labels(Y)"
   ]
  },
  {
   "cell_type": "code",
   "execution_count": 6,
   "metadata": {},
   "outputs": [
    {
     "name": "stdout",
     "output_type": "stream",
     "text": [
      "Number of Classes:10\n"
     ]
    }
   ],
   "source": [
    "from keras.utils import np_utils\n",
    "\n",
    "#Now we hot one encoded outputs\n",
    "y_train = np_utils.to_categorical(y_train)\n",
    "y_test = np_utils.to_categorical(y_test)\n",
    "\n",
    "#Count the number of columns in our hot encoded matrix\n",
    "print ('Number of Classes:' + str(y_test.shape[1]))\n",
    "\n",
    "num_classes = y_test.shape[1]\n",
    "num_pixels = x_train.shape[1] * x_train.shape[2]"
   ]
  },
  {
   "cell_type": "markdown",
   "metadata": {},
   "source": [
    "## Step 4 - Create Our Model\n",
    "- We're constructing a simple CNN that uses 32 filters of size 3*3\n",
    "- We'have added a second convolution layer of 64 filters of the same size 3*3\n",
    "- We downsampled our data to 2x2, here we apply a dropout where p is set to 0.25\n",
    "- After that we flattened our Max Pool output that is connected to a Dense/FC layer that has an output size of 128\n",
    "- In the final step 128 output is connected to another FC/Dense layer that outputs to the 10 categorical units\n",
    "- Note dropout shouldn't be greater than 0.5 preferably"
   ]
  },
  {
   "cell_type": "code",
   "execution_count": 7,
   "metadata": {},
   "outputs": [
    {
     "name": "stdout",
     "output_type": "stream",
     "text": [
      "Model: \"sequential_1\"\n",
      "_________________________________________________________________\n",
      "Layer (type)                 Output Shape              Param #   \n",
      "=================================================================\n",
      "conv2d_1 (Conv2D)            (None, 26, 26, 32)        320       \n",
      "_________________________________________________________________\n",
      "conv2d_2 (Conv2D)            (None, 24, 24, 64)        18496     \n",
      "_________________________________________________________________\n",
      "max_pooling2d_1 (MaxPooling2 (None, 12, 12, 64)        0         \n",
      "_________________________________________________________________\n",
      "dropout_1 (Dropout)          (None, 12, 12, 64)        0         \n",
      "_________________________________________________________________\n",
      "flatten_1 (Flatten)          (None, 9216)              0         \n",
      "_________________________________________________________________\n",
      "dense_1 (Dense)              (None, 128)               1179776   \n",
      "_________________________________________________________________\n",
      "dropout_2 (Dropout)          (None, 128)               0         \n",
      "_________________________________________________________________\n",
      "dense_2 (Dense)              (None, 10)                1290      \n",
      "=================================================================\n",
      "Total params: 1,199,882\n",
      "Trainable params: 1,199,882\n",
      "Non-trainable params: 0\n",
      "_________________________________________________________________\n",
      "None\n"
     ]
    }
   ],
   "source": [
    "import keras\n",
    "from keras.datasets import mnist\n",
    "from keras.models import Sequential\n",
    "from keras.layers import Dense, Dropout, Flatten\n",
    "from keras.layers import Conv2D, MaxPooling2D\n",
    "from keras import backend as K\n",
    "from keras.optimizers import SGD\n",
    "\n",
    "#Create model\n",
    "model = Sequential()\n",
    "\n",
    "model.add(Conv2D(32, kernel_size=(3,3),\n",
    "                activation='relu',\n",
    "                input_shape=input_shape))\n",
    "model.add(Conv2D(64,(3,3),activation='relu'))\n",
    "model.add(MaxPooling2D(pool_size=(2,2)))\n",
    "model.add(Dropout(0.25))\n",
    "model.add(Flatten())\n",
    "model.add(Dense(128,activation='relu'))\n",
    "model.add(Dropout(0.5))\n",
    "model.add(Dense(num_classes, activation='softmax'))\n",
    "\n",
    "model.compile(loss = 'categorical_crossentropy',\n",
    "             optimizer = SGD(0.01),\n",
    "             metrics = ['accuracy'])\n",
    "\n",
    "print(model.summary())"
   ]
  },
  {
   "cell_type": "markdown",
   "metadata": {},
   "source": [
    "## Step 5 - Train our Model\n",
    "- we enter our formatted data as inputs and set the batch size, number of epochs\n",
    "- we store our models training result for plotting in future\n",
    "- Then we used keras model evaluation function to output the model's final performance. Here we are examining Test Loss and Test Accuracy"
   ]
  },
  {
   "cell_type": "code",
   "execution_count": 9,
   "metadata": {},
   "outputs": [
    {
     "name": "stdout",
     "output_type": "stream",
     "text": [
      "Train on 60000 samples, validate on 10000 samples\n",
      "Epoch 1/10\n",
      "60000/60000 [==============================] - 115s 2ms/step - loss: 0.5812 - accuracy: 0.8182 - val_loss: 0.1976 - val_accuracy: 0.9393- accura\n",
      "Epoch 2/10\n",
      "60000/60000 [==============================] - 117s 2ms/step - loss: 0.2949 - accuracy: 0.9112 - val_loss: 0.1417 - val_accuracy: 0.9582\n",
      "Epoch 3/10\n",
      "60000/60000 [==============================] - 119s 2ms/step - loss: 0.2260 - accuracy: 0.9322 - val_loss: 0.1074 - val_accuracy: 0.9664\n",
      "Epoch 4/10\n",
      "60000/60000 [==============================] - 122s 2ms/step - loss: 0.1761 - accuracy: 0.9474 - val_loss: 0.0836 - val_accuracy: 0.9745\n",
      "Epoch 5/10\n",
      "60000/60000 [==============================] - 119s 2ms/step - loss: 0.1461 - accuracy: 0.9560 - val_loss: 0.0702 - val_accuracy: 0.9776oss: 0.1462 - accura\n",
      "Epoch 6/10\n",
      "60000/60000 [==============================] - 119s 2ms/step - loss: 0.1248 - accuracy: 0.9629 - val_loss: 0.0592 - val_accuracy: 0.9811\n",
      "Epoch 7/10\n",
      "60000/60000 [==============================] - 121s 2ms/step - loss: 0.1101 - accuracy: 0.9677 - val_loss: 0.0537 - val_accuracy: 0.9825\n",
      "Epoch 8/10\n",
      "60000/60000 [==============================] - 119s 2ms/step - loss: 0.0999 - accuracy: 0.9695 - val_loss: 0.0501 - val_accuracy: 0.9838\n",
      "Epoch 9/10\n",
      "60000/60000 [==============================] - 119s 2ms/step - loss: 0.0915 - accuracy: 0.9726 - val_loss: 0.0452 - val_accuracy: 0.9840\n",
      "Epoch 10/10\n",
      "60000/60000 [==============================] - 121s 2ms/step - loss: 0.0839 - accuracy: 0.9745 - val_loss: 0.0438 - val_accuracy: 0.9863\n",
      "Test loss: 0.043802500181901266\n",
      "Test accuracy: 0.986299991607666\n"
     ]
    }
   ],
   "source": [
    "batch_size = 32\n",
    "epochs = 10\n",
    "\n",
    "history = model.fit(x_train,\n",
    "                   y_train,\n",
    "                   batch_size = batch_size,\n",
    "                   epochs = epochs,\n",
    "                   verbose = 1,                                     #how much data we want to see while training\n",
    "                   validation_data = (x_test, y_test))\n",
    "   \n",
    "score = model.evaluate(x_test, y_test, verbose = 0)\n",
    "print('Test loss:', score[0])\n",
    "print('Test accuracy:', score[1])"
   ]
  },
  {
   "cell_type": "markdown",
   "metadata": {},
   "source": [
    "## Step 6 - Plotting our Loss and Acuuracy Charts"
   ]
  },
  {
   "cell_type": "code",
   "execution_count": 10,
   "metadata": {},
   "outputs": [
    {
     "data": {
      "image/png": "[encoded data removed]",
      "text/plain": [
       "<Figure size 432x288 with 1 Axes>"
      ]
     },
     "metadata": {
      "needs_background": "light"
     },
     "output_type": "display_data"
    }
   ],
   "source": [
    "# Plotting our loss Charts\n",
    "\n",
    "import matplotlib.pyplot as plt\n",
    "\n",
    "history_dict = history.history\n",
    "\n",
    "loss_values = history_dict['loss']\n",
    "val_loss_values = history_dict['val_loss']\n",
    "epochs = range(1, len(loss_values) + 1)\n",
    "\n",
    "line1 = plt.plot(epochs, val_loss_values, label='Validation/Test Loss')\n",
    "line2 = plt.plot(epochs, loss_values, label='Training Loss')\n",
    "plt.setp(line1, linewidth=2.0, marker = '+', markersize=10.0)\n",
    "plt.setp(line2, linewidth=2.0, marker = '4', markersize=10.0)\n",
    "plt.xlabel('Epochs')\n",
    "plt.ylabel('Loss')\n",
    "plt.grid(True)\n",
    "plt.legend()\n",
    "plt.show()"
   ]
  },
  {
   "cell_type": "code",
   "execution_count": 12,
   "metadata": {},
   "outputs": [
    {
     "data": {
      "image/png": "[encoded data removed]",
      "text/plain": [
       "<Figure size 432x288 with 1 Axes>"
      ]
     },
     "metadata": {
      "needs_background": "light"
     },
     "output_type": "display_data"
    }
   ],
   "source": [
    "#plotting accuracy charts\n",
    "\n",
    "import matplotlib.pyplot as plt\n",
    "\n",
    "history_dict = history.history\n",
    "\n",
    "accuracy_values = history_dict['accuracy']\n",
    "val_accuracy_values = history_dict['val_accuracy']\n",
    "epochs = range(1, len(accuracy_values) +1)\n",
    "\n",
    "line1 = plt.plot(epochs, val_accuracy_values, label='Validation/TestAccuracy')\n",
    "line2 = plt.plot(epochs, accuracy_values, label='Training Accuracy')\n",
    "plt.setp(line1, linewidth=2.0, marker = '+', markersize=10.0)\n",
    "plt.setp(line2, linewidth=2.0, marker = '4', markersize=10.0)\n",
    "plt.xlabel('Epochs')\n",
    "plt.ylabel('Accuracy')\n",
    "plt.grid(True)\n",
    "plt.legend()\n",
    "plt.show()"
   ]
  },
  {
   "cell_type": "markdown",
   "metadata": {},
   "source": [
    "# Step 7A - Saving our Model\n"
   ]
  },
  {
   "cell_type": "code",
   "execution_count": 13,
   "metadata": {},
   "outputs": [
    {
     "name": "stdout",
     "output_type": "stream",
     "text": [
      "model Saved\n"
     ]
    }
   ],
   "source": [
    "model.save(r\"C:\\Users\\yrsin\\Desktop\\git_Hub\\tensorflow\\sharedwindows10\\testfolder\\handwritten_digits_CNN.h5\")\n",
    "print(\"model Saved\")"
   ]
  },
  {
   "cell_type": "markdown",
   "metadata": {},
   "source": [
    "# Step 7B - Loading our Model"
   ]
  },
  {
   "cell_type": "code",
   "execution_count": 14,
   "metadata": {},
   "outputs": [],
   "source": [
    "from keras.models import load_model\n",
    "\n",
    "classifier = load_model(r'C:\\Users\\yrsin\\Desktop\\git_Hub\\tensorflow\\sharedwindows10\\testfolder\\handwritten_digits_CNN.h5')"
   ]
  },
  {
   "cell_type": "markdown",
   "metadata": {},
   "source": [
    "# Step 8 - Lets input some data to test our classifier"
   ]
  },
  {
   "cell_type": "code",
   "execution_count": 17,
   "metadata": {},
   "outputs": [],
   "source": [
    "import cv2\n",
    "import numpy as np\n",
    "\n",
    "def draw_test(name, pred, input_im):\n",
    "    BLACK = [0,0,0]\n",
    "    expanded_image = cv2.copyMakeBorder(input_im, 0,0,0, imageL.shape[0], cv2.BORDER_CONSTANT,value=BLACK)\n",
    "    expanded_image = cv2.cvtColor(expanded_image, cv2.COLOR_GRAY2BGR)\n",
    "    cv2.putText(expanded_image, str(pred), (152,70), cv2.FONT_HERSHEY_COMPLEX_SMALL,4,(0,255,0),2)\n",
    "    cv2.imshow(name, expanded_image)\n",
    "    \n",
    "for i in range(0,10):\n",
    "    rand = np.random.randint(0,len(x_test))\n",
    "    input_im = x_test[rand]\n",
    "    \n",
    "    imageL = cv2.resize(input_im, None, fx=4, fy=4, interpolation = cv2.INTER_CUBIC)\n",
    "    input_im = input_im.reshape(1,28,28,1)\n",
    "    \n",
    "    #Get Prediction\n",
    "    res = str(classifier.predict_classes(input_im,1,verbose = 0)[0])\n",
    "    \n",
    "    draw_test(\"Prediction\",res,imageL)\n",
    "    cv2.waitKey(0)\n",
    "        \n",
    "cv2.destroyAllWindows()"
   ]
  },
  {
   "cell_type": "markdown",
   "metadata": {},
   "source": [
    "# Predictions of Classifier"
   ]
  },
  {
   "cell_type": "markdown",
   "metadata": {},
   "source": [
    "![](Predictions.png)"
   ]
  },
  {
   "cell_type": "markdown",
   "metadata": {},
   "source": [
    "# Confusion Matrix and classification Report"
   ]
  },
  {
   "cell_type": "code",
   "execution_count": 19,
   "metadata": {},
   "outputs": [
    {
     "name": "stdout",
     "output_type": "stream",
     "text": [
      "              precision    recall  f1-score   support\n",
      "\n",
      "           0       0.97      1.00      0.98       980\n",
      "           1       0.99      0.99      0.99      1135\n",
      "           2       0.98      0.99      0.99      1032\n",
      "           3       0.99      0.98      0.99      1010\n",
      "           4       0.99      0.99      0.99       982\n",
      "           5       0.98      0.99      0.99       892\n",
      "           6       0.99      0.98      0.99       958\n",
      "           7       0.99      0.98      0.98      1028\n",
      "           8       0.99      0.98      0.98       974\n",
      "           9       0.99      0.98      0.98      1009\n",
      "\n",
      "    accuracy                           0.99     10000\n",
      "   macro avg       0.99      0.99      0.99     10000\n",
      "weighted avg       0.99      0.99      0.99     10000\n",
      "\n",
      "[[ 976    1    0    0    0    0    1    1    1    0]\n",
      " [   0 1127    3    1    0    1    2    0    1    0]\n",
      " [   3    2 1022    1    1    0    0    3    0    0]\n",
      " [   0    0    3  994    0    8    0    3    2    0]\n",
      " [   0    1    1    0  968    0    4    0    2    6]\n",
      " [   2    0    0    4    0  882    2    1    1    0]\n",
      " [   8    2    0    0    1    4  942    0    1    0]\n",
      " [   2    1   10    1    0    0    0 1011    1    2]\n",
      " [   7    1    2    1    2    1    1    3  952    4]\n",
      " [   5    4    0    2    3    1    0    4    1  989]]\n"
     ]
    }
   ],
   "source": [
    "from sklearn.metrics import classification_report,confusion_matrix\n",
    "import numpy as np\n",
    "\n",
    "y_pred = model.predict_classes(x_test)\n",
    "\n",
    "print(classification_report(np.argmax(y_test,axis=1), y_pred))\n",
    "print(confusion_matrix(np.argmax(y_test,axis=1), y_pred))"
   ]
  },
  {
   "cell_type": "markdown",
   "metadata": {},
   "source": [
    "# Displaying our Misclassified Data"
   ]
  },
  {
   "cell_type": "code",
   "execution_count": 20,
   "metadata": {},
   "outputs": [
    {
     "name": "stdout",
     "output_type": "stream",
     "text": [
      "Indices of misclassifed data are: \n",
      "\n",
      "(array([ 247,  259,  321,  445,  449,  582,  720,  726,  740,  844,  883,\n",
      "        938,  947,  965, 1014, 1039, 1112, 1182, 1226, 1232, 1242, 1247,\n",
      "       1290, 1299, 1319, 1326, 1393, 1522, 1527, 1530, 1549, 1609, 1678,\n",
      "       1681, 1709, 1717, 1737, 1878, 1901, 2018, 2035, 2043, 2093, 2098,\n",
      "       2109, 2118, 2130, 2135, 2182, 2272, 2293, 2387, 2406, 2447, 2454,\n",
      "       2462, 2488, 2607, 2648, 2654, 2896, 2921, 2927, 2939, 2952, 2953,\n",
      "       3030, 3060, 3289, 3422, 3503, 3520, 3558, 3559, 3597, 3604, 3726,\n",
      "       3751, 3767, 3780, 3808, 3853, 3906, 3941, 4075, 4078, 4163, 4176,\n",
      "       4205, 4224, 4238, 4248, 4256, 4265, 4289, 4497, 4500, 4536, 4601,\n",
      "       4639, 4740, 4761, 4807, 4814, 4823, 4956, 5331, 5642, 5734, 5887,\n",
      "       5937, 5955, 5973, 6011, 6505, 6555, 6572, 6576, 6597, 6625, 6651,\n",
      "       6783, 7434, 8325, 8408, 8527, 9009, 9015, 9019, 9024, 9280, 9634,\n",
      "       9692, 9729, 9770, 9888, 9982], dtype=int64),)\n"
     ]
    }
   ],
   "source": [
    "import cv2\n",
    "import numpy as np\n",
    "from keras.datasets import mnist\n",
    "\n",
    "# loads the MNIST dataset\n",
    "(x_train, y_train), (x_test, y_test)  = mnist.load_data()\n",
    "\n",
    "# Use numpy to create an array that stores a value of 1 when a misclassification occurs\n",
    "result = np.absolute(y_test - y_pred)\n",
    "result_indices = np.nonzero(result > 0)\n",
    "\n",
    "#  Display the indices of mislassifications\n",
    "print(\"Indices of misclassifed data are: \\n\\n\" + str(result_indices))"
   ]
  },
  {
   "cell_type": "markdown",
   "metadata": {},
   "source": [
    "# Displaying the Misclassification"
   ]
  },
  {
   "cell_type": "code",
   "execution_count": 21,
   "metadata": {},
   "outputs": [],
   "source": [
    "import cv2 \n",
    "#from keras.models import load_model\n",
    "\n",
    "#classifier = load_model('/home/deeplearningcv/DeepLearningCV/Trained Models/mnist_simple_cnn.h5')\n",
    "\n",
    "def draw_test(name, pred, input_im, true_label):\n",
    "    BLACK = [0,0,0]\n",
    "    expanded_image = cv2.copyMakeBorder(input_im, 0, 0, 0, imageL.shape[0]*2 ,cv2.BORDER_CONSTANT,value=BLACK)\n",
    "    expanded_image = cv2.cvtColor(expanded_image, cv2.COLOR_GRAY2BGR)\n",
    "    cv2.putText(expanded_image, str(pred), (152, 70) , cv2.FONT_HERSHEY_COMPLEX_SMALL,4, (0,255,0), 2)\n",
    "    cv2.putText(expanded_image, str(true_label), (250, 70) , cv2.FONT_HERSHEY_COMPLEX_SMALL,4, (0,0,255), 2)\n",
    "    cv2.imshow(name, expanded_image)\n",
    "\n",
    "for i in range(0,10):\n",
    "\n",
    "    input_im = x_test[result_indices[0][i]]\n",
    "    #print(y_test[result_indices[0][i]])\n",
    "    imageL = cv2.resize(input_im, None, fx=4, fy=4, interpolation = cv2.INTER_CUBIC) \n",
    "    input_im = input_im.reshape(1,28,28,1) \n",
    "    \n",
    "    ## Get Prediction\n",
    "    res = str(model.predict_classes(input_im, 1, verbose = 0)[0])\n",
    "    draw_test(\"Prediction\", res, imageL, y_test[result_indices[0][i]]) \n",
    "    cv2.waitKey(0)\n",
    "\n",
    "cv2.destroyAllWindows()"
   ]
  },
  {
   "cell_type": "markdown",
   "metadata": {},
   "source": [
    "# Output of Misclassified data"
   ]
  },
  {
   "cell_type": "markdown",
   "metadata": {},
   "source": [
    "![](Misclassification.png)"
   ]
  }
 ],
 "metadata": {
  "kernelspec": {
   "display_name": "Python 3",
   "language": "python",
   "name": "python3"
  },
  "language_info": {
   "codemirror_mode": {
    "name": "ipython",
    "version": 3
   },
   "file_extension": ".py",
   "mimetype": "text/x-python",
   "name": "python",
   "nbconvert_exporter": "python",
   "pygments_lexer": "ipython3",
   "version": "3.6.10"
  }
 },
 "nbformat": 4,
 "nbformat_minor": 2
}
